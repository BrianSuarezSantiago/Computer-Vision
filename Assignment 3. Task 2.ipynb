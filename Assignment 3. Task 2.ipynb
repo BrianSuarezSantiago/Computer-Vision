{
 "cells": [
  {
   "cell_type": "markdown",
   "metadata": {},
   "source": [
    "# Task\n",
    "\n",
    "Las tres imágenes cargadas en la celda inicial, han sido extraidas de las imágenes de mayor tamaño presentes en la carpeta. La tarea consiste en extraer características (geométricas y/o visuales) e identificar patrones que permitan distinguir las partículas de cada una de las tres clases, evaluando los aciertos y fallos con las imágenes completas considerando las métricas mostradas y la matriz de confusión. La matriz de confusión, muestra para cada clase el número de muestras que se clasifican correctamente de dicha clase, y el número de muestras que se clasifican incorrectamente por cada una de las otras dos clases.\n",
    "\n",
    "En el trabajo [SMACC: A System for Microplastics Automatic Counting and Classification](https://doi.org/10.1109/ACCESS.2020.2970498), las características geométricas utilizadas fueron:\n",
    "\n",
    "- Área en píxeles\n",
    "- Perímetro en píxeles\n",
    "- Compacidad (relación entre el cuadrado del perímetro y el área de la partícula)\n",
    "- Relación del área de la partícula con la del contenedor\n",
    "- Relación del ancho y el alto del contenedor\n",
    "- Relación entre los ejes de la elipse ajustada\n",
    "- Definido el centroide, relación entre las distancias menor y mayor al contorno\n",
    "\n",
    "Si no se quedan satisfechos con la segmentación obtenida, es el mundo real, también en el README comento técnicas recientes de segmentación, que podrían despertar su curiosidad."
   ]
  },
  {
   "cell_type": "code",
   "execution_count": null,
   "metadata": {},
   "outputs": [],
   "source": [
    "# Import necessary libraries\n",
    "import matplotlib.pyplot as plt\n",
    "import numpy as np\n",
    "import cv2"
   ]
  },
  {
   "cell_type": "code",
   "execution_count": null,
   "metadata": {
    "vscode": {
     "languageId": "plaintext"
    }
   },
   "outputs": [],
   "source": [
    "def perimeter_area_ratio(contour):\n",
    "    \"\"\"\n",
    "    Computes the compactness of the blob, calculated as the ratio of the square of the perimeter to the area.\n",
    "    \n",
    "    Parameters:\n",
    "    contour: A contour of the shape, typically obtained from an image using methods like cv2.findContours.\n",
    "    \n",
    "    Returns:\n",
    "    The ratio of the square of the perimeter to the area, which can give a measure of how compact the shape is.\n",
    "    \"\"\"\n",
    "    # Calculate the area of the contour using cv2.contourArea, which computes the area enclosed by the contour.\n",
    "    area = cv2.contourArea(contour)\n",
    "    \n",
    "    # Calculate the perimeter (arc length) of the contour using cv2.arcLength.\n",
    "    # The second argument 'True' indicates that the contour is closed.\n",
    "    perimeter = cv2.arcLength(contour, True)\n",
    "    \n",
    "    # Return the compactness, which is the ratio of the square of the perimeter to the area.\n",
    "    # A more compact shape (like a circle) will have a lower value, while irregular shapes will have a higher value.\n",
    "    return perimeter**2 / area"
   ]
  },
  {
   "cell_type": "code",
   "execution_count": null,
   "metadata": {
    "vscode": {
     "languageId": "plaintext"
    }
   },
   "outputs": [],
   "source": [
    "def blob_area_and_bounding_box_ratio(contour):\n",
    "    \"\"\"\n",
    "    Computes the ratio between the area of the blob (the shape) and the area of its minimum bounding rectangle.\n",
    "    \n",
    "    Parameters:\n",
    "    contour: A contour of the shape, typically obtained from an image using methods like cv2.findContours.\n",
    "    \n",
    "    Returns:\n",
    "    The ratio of the blob's area to the area of its minimum bounding box.\n",
    "    \"\"\"\n",
    "    # Calculate the area of the blob (contour) using cv2.contourArea, which gives the area enclosed by the contour.\n",
    "    blob_area = cv2.contourArea(contour)\n",
    "    \n",
    "    # Compute the minimum area bounding rectangle that can enclose the contour using cv2.minAreaRect.\n",
    "    # The function returns a rotated rectangle. The rect[1] contains the width and height of this rectangle.\n",
    "    rect = cv2.minAreaRect(contour)\n",
    "    \n",
    "    # Extract the width and height of the minimum bounding rectangle.\n",
    "    width, height = rect[1]\n",
    "    \n",
    "    # Calculate the area of the minimum bounding rectangle (width * height).\n",
    "    rect_area = width * height\n",
    "    \n",
    "    # Return the ratio of the blob's area to the rectangle's area.\n",
    "    # A higher value indicates that the blob occupies most of the bounding box, while a lower value suggests a looser fit.\n",
    "    return blob_area / rect_area"
   ]
  },
  {
   "cell_type": "code",
   "execution_count": null,
   "metadata": {
    "vscode": {
     "languageId": "plaintext"
    }
   },
   "outputs": [],
   "source": [
    "def bounding_box_width_and_height_ratio(contour):\n",
    "    \"\"\"\n",
    "    Computes the ratio between the width and height of the bounding box of a blob (shape).\n",
    "    \n",
    "    Parameters:\n",
    "    contour: A contour of the shape, typically obtained from an image using methods like cv2.findContours.\n",
    "    \n",
    "    Returns:\n",
    "    The ratio of the width to the height of the minimum bounding rectangle of the contour.\n",
    "    \"\"\"\n",
    "    # Compute the minimum area bounding rectangle that encloses the contour using cv2.minAreaRect.\n",
    "    # The function returns a rotated rectangle. The rect[1] contains the width and height of this rectangle.\n",
    "    rect = cv2.minAreaRect(contour)\n",
    "    \n",
    "    # Extract the width and height of the minimum bounding rectangle.\n",
    "    width, height = rect[1]\n",
    "    \n",
    "    # Return the ratio of the width to the height of the bounding rectangle.\n",
    "    # This can provide insight into the elongation of the shape; a value near 1 indicates a square-like shape,\n",
    "    # while higher or lower values indicate elongated shapes.\n",
    "    return width / height"
   ]
  },
  {
   "cell_type": "code",
   "execution_count": null,
   "metadata": {
    "vscode": {
     "languageId": "plaintext"
    }
   },
   "outputs": [],
   "source": [
    "def fitted_ellipse_axises_ratio(contour):\n",
    "    \"\"\"\n",
    "    Computes the ratio between the major and minor axes of an ellipse fitted to the contour.\n",
    "    \n",
    "    Parameters:\n",
    "    contour: A contour of the shape, typically obtained from an image using methods like cv2.findContours.\n",
    "    \n",
    "    Returns:\n",
    "    The ratio of the major axis to the minor axis of the ellipse fitted to the contour.\n",
    "    Returns 0 if the contour has fewer than 5 points (since at least 5 points are required to fit an ellipse).\n",
    "    \"\"\"\n",
    "    # Check if the contour has fewer than 5 points; fitting an ellipse requires at least 5 points.\n",
    "    if len(contour) < 5:\n",
    "        return 0\n",
    "    \n",
    "    # Fit an ellipse to the contour using cv2.fitEllipse.\n",
    "    # The function returns an ellipse defined by its center, axes, and rotation angle.\n",
    "    ellipse = cv2.fitEllipse(contour)\n",
    "    \n",
    "    # Extract the lengths of the major and minor axes from the ellipse.\n",
    "    # ellipse[1] gives a tuple (axis_1, axis_2), where axis_1 is the major axis and axis_2 is the minor axis.\n",
    "    axis_1, axis_2 = ellipse[1]\n",
    "    \n",
    "    # Return the ratio of the major axis to the minor axis.\n",
    "    # This ratio provides insight into the elongation of the shape: a value close to 1 indicates a circular shape,\n",
    "    # while a larger ratio suggests an elongated, elliptical shape.\n",
    "    return axis_1 / axis_2"
   ]
  },
  {
   "cell_type": "code",
   "execution_count": null,
   "metadata": {
    "vscode": {
     "languageId": "plaintext"
    }
   },
   "outputs": [],
   "source": [
    "def aspect_ratio(contour):\n",
    "    \"\"\"\n",
    "    Computes the aspect ratio, which is the ratio of the width to the height of the bounding rectangle of the contour.\n",
    "    \n",
    "    Parameters:\n",
    "    contour: A contour of the shape, typically obtained from an image using methods like cv2.findContours.\n",
    "    \n",
    "    Returns:\n",
    "    The aspect ratio (width/height) of the bounding rectangle that encloses the contour.\n",
    "    \"\"\"\n",
    "    # Compute the bounding rectangle that tightly encloses the contour using cv2.boundingRect.\n",
    "    # The function returns the top-left corner (x, y) and the width (w) and height (h) of the rectangle.\n",
    "    x, y, w, h = cv2.boundingRect(contour)\n",
    "    \n",
    "    # Calculate the aspect ratio, which is the width divided by the height.\n",
    "    # This gives a sense of the shape's proportions: a value near 1 indicates a square-like shape,\n",
    "    # while values greater or less than 1 indicate a more elongated shape.\n",
    "    aspect_ratio = float(w) / h\n",
    "    \n",
    "    # Return the calculated aspect ratio.\n",
    "    return aspect_ratio"
   ]
  },
  {
   "cell_type": "code",
   "execution_count": null,
   "metadata": {
    "vscode": {
     "languageId": "plaintext"
    }
   },
   "outputs": [],
   "source": [
    "def extent(contour):\n",
    "    \"\"\"\n",
    "    Computes the extent, which is the ratio of the contour area to the area of its bounding rectangle.\n",
    "    \n",
    "    Parameters:\n",
    "    contour: A contour of the shape, typically obtained from an image using methods like cv2.findContours.\n",
    "    \n",
    "    Returns:\n",
    "    The extent (contour area / bounding rectangle area), which provides a measure of how much space the contour occupies within its bounding box.\n",
    "    \"\"\"\n",
    "    # Calculate the area of the contour using cv2.contourArea, which gives the area enclosed by the contour.\n",
    "    area = cv2.contourArea(contour)\n",
    "    \n",
    "    # Compute the bounding rectangle that encloses the contour using cv2.boundingRect.\n",
    "    # The function returns the top-left corner (x, y) and the width (w) and height (h) of the rectangle.\n",
    "    x, y, w, h = cv2.boundingRect(contour)\n",
    "    \n",
    "    # Calculate the area of the bounding rectangle (width * height).\n",
    "    rect_area = w * h\n",
    "    \n",
    "    # Calculate the extent, which is the ratio of the contour's area to the bounding rectangle's area.\n",
    "    # A higher extent value means the contour occupies a larger portion of the bounding box, while a lower value suggests the contour is more irregular or spread out.\n",
    "    extent = float(area) / rect_area\n",
    "    \n",
    "    # Return the calculated extent.\n",
    "    return extent"
   ]
  },
  {
   "cell_type": "code",
   "execution_count": null,
   "metadata": {
    "vscode": {
     "languageId": "plaintext"
    }
   },
   "outputs": [],
   "source": [
    "def solidity(contour):\n",
    "    \"\"\"\n",
    "    Computes the solidity, which is the ratio of the contour area to the area of its convex hull.\n",
    "    \n",
    "    Parameters:\n",
    "    contour: A contour of the shape, typically obtained from an image using methods like cv2.findContours.\n",
    "    \n",
    "    Returns:\n",
    "    The solidity (contour area / convex hull area), which measures how 'solid' or 'convex' a shape is.\n",
    "    \"\"\"\n",
    "    # Calculate the area of the contour using cv2.contourArea, which gives the area enclosed by the contour.\n",
    "    area = cv2.contourArea(contour)\n",
    "    \n",
    "    # Compute the convex hull of the contour using cv2.convexHull.\n",
    "    # The convex hull is the smallest convex shape that encloses the contour.\n",
    "    hull = cv2.convexHull(contour)\n",
    "    \n",
    "    # Calculate the area of the convex hull using cv2.contourArea.\n",
    "    hull_area = cv2.contourArea(hull)\n",
    "    \n",
    "    # Calculate the solidity, which is the ratio of the contour's area to the convex hull's area.\n",
    "    # A solidity value close to 1 indicates the shape is nearly convex, while a lower value indicates the shape has more concavities.\n",
    "    solidity = float(area) / hull_area\n",
    "    \n",
    "    # Return the calculated solidity.\n",
    "    return solidity"
   ]
  },
  {
   "cell_type": "code",
   "execution_count": null,
   "metadata": {
    "vscode": {
     "languageId": "plaintext"
    }
   },
   "outputs": [],
   "source": [
    "def circularity(contour):\n",
    "    \"\"\"\n",
    "    Computes a measure of circularity, where lower values indicate the shape is closer to a perfect circle.\n",
    "    \n",
    "    Parameters:\n",
    "    contour: A contour of the shape, typically obtained from an image using methods like cv2.findContours.\n",
    "    \n",
    "    Returns:\n",
    "    A value representing how circular the shape is. The lower the value, the closer the shape is to a circle.\n",
    "    \"\"\"\n",
    "    # Calculate the area of the contour using cv2.contourArea, which gives the area enclosed by the contour.\n",
    "    area = cv2.contourArea(contour)\n",
    "    \n",
    "    # Calculate the perimeter (arc length) of the contour using cv2.arcLength.\n",
    "    # The second argument 'True' indicates that the contour is closed.\n",
    "    perimeter = cv2.arcLength(contour, True)\n",
    "    \n",
    "    # Compute the ratio of the contour area to its perimeter.\n",
    "    # This gives an initial measure of circularity; for a perfect circle, this value would be relatively high.\n",
    "    area_perimeter_ratio = area / perimeter\n",
    "    \n",
    "    # Compute the minimum enclosing circle that encloses the contour using cv2.minEnclosingCircle.\n",
    "    # The function returns the center coordinates (cx, cy) and the radius (r) of the enclosing circle.\n",
    "    (cx, cy), r = cv2.minEnclosingCircle(contour)\n",
    "    \n",
    "    # Calculate the final circularity measure by subtracting half of the radius from the area-perimeter ratio.\n",
    "    # The closer the result is to zero, the more circular the shape is.\n",
    "    return abs(area_perimeter_ratio - r / 2)"
   ]
  },
  {
   "cell_type": "code",
   "execution_count": null,
   "metadata": {
    "vscode": {
     "languageId": "plaintext"
    }
   },
   "outputs": [],
   "source": [
    "def mean_colour(contour, img):\n",
    "    \"\"\"\n",
    "    Computes the average color or intensity within the area defined by the contour.\n",
    "    \n",
    "    Parameters:\n",
    "    contour: A contour of the shape, typically obtained from an image using methods like cv2.findContours.\n",
    "    img: The input image (in BGR format) from which the mean color/intensity will be calculated.\n",
    "    \n",
    "    Returns:\n",
    "    The average grayscale intensity value within the contour region.\n",
    "    \"\"\"\n",
    "    # Convert the input image to grayscale using cv2.cvtColor.\n",
    "    # This simplifies the color information to intensity values for easier processing.\n",
    "    img_grey = cv2.cvtColor(img, cv2.COLOR_BGR2GRAY)\n",
    "    \n",
    "    # Create an empty mask (same size as the grayscale image) initialized with zeros (black).\n",
    "    mask = np.zeros(img_grey.shape, np.uint8)\n",
    "    \n",
    "    # Draw the contour on the mask. The contour is filled with white (255) inside the shape (-1 indicates filling the contour).\n",
    "    # This mask highlights the area enclosed by the contour.\n",
    "    cv2.drawContours(mask, [contour], 0, 255, -1)\n",
    "    \n",
    "    # Find the pixel points in the masked area (i.e., the region inside the contour) using np.nonzero.\n",
    "    pixelpoints = np.transpose(np.nonzero(mask))\n",
    "    \n",
    "    # Compute the mean intensity value of the grayscale image within the contour area using cv2.mean.\n",
    "    # The mask limits the mean calculation to the area inside the contour.\n",
    "    mean_val = cv2.mean(img_grey, mask=mask)\n",
    "    \n",
    "    # Return the mean grayscale intensity value. The first value of mean_val corresponds to the intensity, \n",
    "    # since mean_val is a tuple containing the mean of each color channel (in this case, grayscale has only one channel).\n",
    "    return mean_val[0]"
   ]
  },
  {
   "cell_type": "code",
   "execution_count": null,
   "metadata": {
    "vscode": {
     "languageId": "plaintext"
    }
   },
   "outputs": [],
   "source": [
    "# List of functions responsible for extracting specific features from a contour\n",
    "feature_extracting_functions = [\n",
    "    perimeter_area_ratio,                  # Ratio of perimeter squared to area\n",
    "    blob_area_and_bounding_box_ratio,      # Ratio of blob area to bounding box area\n",
    "    bounding_box_width_and_height_ratio,   # Ratio of width to height of the bounding box\n",
    "    fitted_ellipse_axises_ratio,           # Ratio of major to minor axis of the fitted ellipse\n",
    "    aspect_ratio,                          # Ratio of width to height of bounding rectangle\n",
    "    extent,                                # Ratio of contour area to bounding rectangle area\n",
    "    solidity,                              # Ratio of contour area to convex hull area\n",
    "    circularity,                           # Custom circularity measure\n",
    "]"
   ]
  },
  {
   "cell_type": "code",
   "execution_count": null,
   "metadata": {
    "vscode": {
     "languageId": "plaintext"
    }
   },
   "outputs": [],
   "source": [
    "def get_contour_feature_vector(contour, img):\n",
    "    \"\"\"\n",
    "    Extracts a feature vector for a given contour by applying the list of feature extracting functions.\n",
    "    \n",
    "    Parameters:\n",
    "    contour: The contour from which the features will be extracted.\n",
    "    img: The image in which the contour is found, used for color/intensity-related features.\n",
    "    \n",
    "    Returns:\n",
    "    A list containing the computed feature values for the contour.\n",
    "    \"\"\"\n",
    "    # Apply each feature extraction function to the contour and collect the results in a list.\n",
    "    contour_feature_vector = [function(contour=contour) for function in feature_extracting_functions]\n",
    "    \n",
    "    # Append the mean color/intensity value from the 'mean_colour' function to the feature vector.\n",
    "    contour_feature_vector.append(mean_colour(contour, img))\n",
    "    \n",
    "    # Return the complete feature vector for the contour.\n",
    "    return contour_feature_vector"
   ]
  },
  {
   "cell_type": "code",
   "execution_count": null,
   "metadata": {
    "vscode": {
     "languageId": "plaintext"
    }
   },
   "outputs": [],
   "source": [
    "def feature_extraction(microplastic_external_contours, img):\n",
    "    \"\"\"\n",
    "    Extracts and averages the features for a list of contours from the input image.\n",
    "    \n",
    "    Parameters:\n",
    "    microplastic_external_contours: List of external contours of microplastic particles.\n",
    "    img: The image from which the features are extracted.\n",
    "    \n",
    "    Returns:\n",
    "    A list containing the averaged feature values for all contours.\n",
    "    \"\"\"\n",
    "    # Initialize a list of empty lists to store feature values.\n",
    "    # There are len(feature_extracting_functions) + 1 because we include the mean color feature.\n",
    "    features = [[] for _ in range(len(feature_extracting_functions) + 1)]\n",
    "    \n",
    "    # Process each contour to extract its feature vector.\n",
    "    for contour in microplastic_external_contours:\n",
    "        # Extract the feature vector for the current contour.\n",
    "        feature_vector = get_contour_feature_vector(contour, img)\n",
    "        \n",
    "        # Append each feature value from the vector to the corresponding feature list.\n",
    "        for i, feature_value in enumerate(feature_vector):\n",
    "            features[i].append(feature_value)\n",
    "    \n",
    "    # Calculate the average value of each feature across all contours.\n",
    "    # For each feature list, we sum the values and divide by the number of contours (average).\n",
    "    averaged_features = [sum(feature_list) / len(feature_list) for feature_list in features]\n",
    "    \n",
    "    # Return the averaged feature values.\n",
    "    return averaged_features"
   ]
  },
  {
   "cell_type": "markdown",
   "metadata": {},
   "source": [
    "#### Incidencia: Detección de contornos no deseados\n",
    "Realizando la detección de características me he encontrado con situaciones en las que el área del contorno es nula (división por cero). Algo preocupante puesto que demuestra que se están detectando contornos muy pequeños que no se corresponden con el elemento microplástico, objeto de interés.\n",
    "\n",
    "Esto se puede visualizar descomentando la llamada a la función escrita a continuación, que muestra el area de los contornos detectados y los pinta en la imagen.\n",
    "\n",
    "La solución ha sido el establecimiento de un umbral para trabajar solamente con aquellos contornos que superen el umbral."
   ]
  },
  {
   "cell_type": "code",
   "execution_count": null,
   "metadata": {
    "vscode": {
     "languageId": "plaintext"
    }
   },
   "outputs": [],
   "source": [
    "def show_all_contours(img, contours):\n",
    "    \"\"\"\n",
    "    Displays the bounding rectangles for all contours on the image and plots their respective areas.\n",
    "    \n",
    "    Parameters:\n",
    "    img: The input image where contours will be drawn.\n",
    "    contours: A list of contours, typically obtained from an image using methods like cv2.findContours.\n",
    "    \n",
    "    Functionality:\n",
    "    - It draws a bounding rectangle around each contour.\n",
    "    - It also plots the area of each contour in a separate plot.\n",
    "    \"\"\"\n",
    "    # Calculate the area of each contour using cv2.contourArea and store it in the 'areas' list.\n",
    "    areas = [cv2.contourArea(contour) for contour in contours]\n",
    "    \n",
    "    # For each contour, calculate the bounding rectangle and draw it on the image.\n",
    "    for contour in contours:\n",
    "        # Get the x, y coordinates and width (w), height (h) of the bounding rectangle around the contour.\n",
    "        x, y, w, h = cv2.boundingRect(contour)\n",
    "        \n",
    "        # Draw the rectangle on the image in green (RGB: (50, 255, 50)) with a thickness of 1.\n",
    "        img = cv2.rectangle(img, (x, y), (x + w, y + h), (50, 255, 50), 1)\n",
    "    \n",
    "    # Create a subplot layout to display two plots side by side.\n",
    "    plt.subplot(121)\n",
    "    \n",
    "    # Label the y-axis as \"Area\" for the area plot.\n",
    "    plt.ylabel(\"Area\")\n",
    "    \n",
    "    # Plot the areas of the contours. The x-axis represents the contour index, and the y-axis represents the area.\n",
    "    plt.plot(areas)\n",
    "    \n",
    "    # Show the modified image with the bounding rectangles in the second subplot.\n",
    "    plt.subplot(122)\n",
    "    \n",
    "    # Turn off the axis for the image display (no gridlines or labels).\n",
    "    plt.axis(\"off\")\n",
    "    \n",
    "    # Display the image with the drawn contours.\n",
    "    plt.imshow(img)\n",
    "    \n",
    "    # Show both plots (the contour areas and the image with bounding rectangles).\n",
    "    plt.show()"
   ]
  },
  {
   "cell_type": "markdown",
   "metadata": {},
   "source": [
    "#### Llamada principal\n",
    "Se procede a extraer las características de fragmentos, pellets y alquitrán"
   ]
  },
  {
   "cell_type": "code",
   "execution_count": null,
   "metadata": {
    "vscode": {
     "languageId": "plaintext"
    }
   },
   "outputs": [],
   "source": [
    "# Dictionary containing file names for images to be used for feature extraction.\n",
    "# The keys represent the type of microplastic, and the values are the file paths to the images.\n",
    "feature_extraction_image_file_names = {\n",
    "    \"Fragments\": \"./Images/Waste/FRA.png\",\n",
    "    \"Pellets\": \"./Images/Waste/PEL.png\",\n",
    "    \"Tar\": \"./Images/Waste/TAR.png\"\n",
    "}\n",
    "\n",
    "# Dictionary to store the extracted features for each type of microplastic.\n",
    "features = dict()\n",
    "\n",
    "# Loop over each microplastic type and its corresponding image file.\n",
    "for microplastic, filename in feature_extraction_image_file_names.items():\n",
    "    # Load the image from the file using OpenCV's imread function.\n",
    "    microplastic_img = cv2.imread(filename)\n",
    "\n",
    "    # Convert the image to grayscale using cv2.cvtColor.\n",
    "    microplastic_grey = cv2.cvtColor(microplastic_img, cv2.COLOR_BGR2GRAY)\n",
    "\n",
    "    # Apply Otsu's binarization (thresholding) to convert the grayscale image into a binary image.\n",
    "    # The binary image is inverted (THRESH_BINARY_INV), and Otsu's method automatically determines the threshold value.\n",
    "    ret, microplastic_otsu = cv2.threshold(microplastic_grey, 0, 255, cv2.THRESH_BINARY_INV + cv2.THRESH_OTSU)\n",
    "\n",
    "    # Extract the external contours from the binary image using cv2.findContours.\n",
    "    # cv2.RETR_EXTERNAL retrieves only the outer contours, and cv2.CHAIN_APPROX_SIMPLE compresses the contour representation.\n",
    "    microplastic_external_contours, microplastic_external_hierarchy = cv2.findContours(microplastic_otsu, cv2.RETR_EXTERNAL, cv2.CHAIN_APPROX_SIMPLE)\n",
    "\n",
    "    # Uncomment the following line to display all contours with bounding rectangles.\n",
    "    # show_all_contours(microplastic_img.copy(), microplastic_external_contours)\n",
    "\n",
    "    # Define area thresholds to filter out very small or very large contours.\n",
    "    min_area_threshold = 750\n",
    "    max_area_threshold = 30000\n",
    "    \n",
    "    # Lambda function to filter contours based on area.\n",
    "    # Only contours with an area between the min and max thresholds are kept.\n",
    "    filter = lambda contour: cv2.contourArea(contour) > min_area_threshold and cv2.contourArea(contour) < max_area_threshold\n",
    "    \n",
    "    # Apply the filter to the list of external contours.\n",
    "    # Only contours that pass the area threshold check are kept.\n",
    "    microplastic_filtered_external_contours = [contour for contour in microplastic_external_contours if filter(contour=contour)]\n",
    "\n",
    "    # Extract features from the filtered contours using the feature_extraction function.\n",
    "    # The extracted features for the current microplastic type are stored in the 'features' dictionary.\n",
    "    features[microplastic] = feature_extraction(microplastic_filtered_external_contours, microplastic_img)"
   ]
  },
  {
   "cell_type": "markdown",
   "metadata": {},
   "source": [
    "### Resultados y matriz de confusión"
   ]
  },
  {
   "cell_type": "code",
   "execution_count": null,
   "metadata": {
    "vscode": {
     "languageId": "plaintext"
    }
   },
   "outputs": [],
   "source": [
    "def key_with_max_value(d):\n",
    "    \"\"\"\n",
    "    Returns the key corresponding to the maximum value in the dictionary.\n",
    "    \n",
    "    Parameters:\n",
    "    d: A dictionary where the values are comparable (e.g., numbers).\n",
    "    \n",
    "    Returns:\n",
    "    The key associated with the highest value in the dictionary.\n",
    "    \"\"\"\n",
    "    # Get the list of values and keys from the dictionary.\n",
    "    v = list(d.values())\n",
    "    k = list(d.keys())\n",
    "    \n",
    "    # Find the index of the maximum value in the values list, and return the corresponding key from the keys list.\n",
    "    return k[v.index(max(v))]"
   ]
  },
  {
   "cell_type": "code",
   "execution_count": null,
   "metadata": {
    "vscode": {
     "languageId": "plaintext"
    }
   },
   "outputs": [],
   "source": [
    "def process_contour(contour, img, reference_features):\n",
    "    \"\"\"\n",
    "    Given a contour, this function determines the type of microplastic and draws the classification confidence on the image.\n",
    "    \n",
    "    Parameters:\n",
    "    contour: The contour of the object to be classified.\n",
    "    img: The image where the contour is found and where the result will be drawn.\n",
    "    reference_features: A dictionary containing the reference feature values for different microplastic types.\n",
    "    \n",
    "    Returns:\n",
    "    The type of microplastic that has the highest classification score.\n",
    "    \"\"\"\n",
    "    \n",
    "    # Extract the feature vector for the given contour using the get_contour_feature_vector function.\n",
    "    contour_feature_vector = get_contour_feature_vector(contour, img)\n",
    "    \n",
    "    # Initialize a list of lists that stores the minimum feature difference and the corresponding microplastic type.\n",
    "    # Each element starts as [9999, 0] (large initial difference, no microplastic type assigned).\n",
    "    accumulative_diff_list = [[9999, 0] for _ in range(len(contour_feature_vector))]\n",
    "    \n",
    "    # Dictionary to keep track of the number of times each microplastic type is selected based on the smallest feature difference.\n",
    "    results = dict()\n",
    "\n",
    "    # Compare the contour's feature vector to the reference feature values for each microplastic type.\n",
    "    for microplastic_type, reference_feature_values in reference_features.items():\n",
    "        # Initialize the result counter for this microplastic type.\n",
    "        results[microplastic_type] = 0\n",
    "        \n",
    "        # For each feature in the contour's feature vector, calculate the absolute difference from the reference.\n",
    "        for i, v in enumerate(contour_feature_vector):\n",
    "            feature_difference = abs(contour_feature_vector[i] - reference_feature_values[i])\n",
    "            \n",
    "            # If the difference is smaller than the current smallest difference for this feature,\n",
    "            # update the accumulative_diff_list with the new smaller difference and the associated microplastic type.\n",
    "            if feature_difference < accumulative_diff_list[i][0]:\n",
    "                accumulative_diff_list[i] = [feature_difference, microplastic_type]\n",
    "\n",
    "    # Process the results: tally up how many times each microplastic type had the smallest difference for a feature.\n",
    "    for difference, microplastic_type in accumulative_diff_list:\n",
    "        results[microplastic_type] += 1\n",
    "\n",
    "    # Determine the total number of features in the feature vector.\n",
    "    number_of_features = len(contour_feature_vector)\n",
    "    \n",
    "    # Create a string to display the classification results as percentages.\n",
    "    results_as_percentage = \"\"\n",
    "    for microplastic_type, value in results.items():\n",
    "        # Calculate the percentage of features that correspond to each microplastic type.\n",
    "        results_as_percentage += f\"{microplastic_type[0:3]}: {value * 100 / number_of_features:.1f}%. \"\n",
    "    \n",
    "    # Draw a bounding rectangle around the contour on the image.\n",
    "    x, y, w, h = cv2.boundingRect(contour)\n",
    "    img = cv2.rectangle(img, (x, y), (x + w, y + h), (50, 255, 50), 2)\n",
    "    \n",
    "    # Add the classification results as text near the contour on the image.\n",
    "    cv2.putText(img, results_as_percentage, (x - w, y - 10), cv2.FONT_HERSHEY_SIMPLEX, 0.9, (50, 255, 50), 2)\n",
    "\n",
    "    # Return the microplastic type that has the highest count in the 'results' dictionary (the most likely classification).\n",
    "    return key_with_max_value(results)"
   ]
  },
  {
   "cell_type": "markdown",
   "metadata": {},
   "source": [
    "En este caso, la matriz de confusión sólo tiene una fila puesto que la clasificación real es siempre la misma para todos los elementos de cada imagen"
   ]
  },
  {
   "cell_type": "code",
   "execution_count": null,
   "metadata": {
    "vscode": {
     "languageId": "plaintext"
    }
   },
   "outputs": [],
   "source": [
    "# Dictionary containing the file paths of the images for each type of microplastic\n",
    "contrast_image_file_names = {\n",
    "    \"Fragments\": \"./Images/Waste/fragment-03-olympus-10-01-2020.JPG\",\n",
    "    \"Pellets\": \"./Images/Waste/pellet-03-olympus-10-01-2020.JPG\",\n",
    "    \"Tar\": \"./Images/Waste/tar-03-olympus-10-01-2020.JPG\"\n",
    "}\n",
    "\n",
    "# Loop through each type of microplastic and its corresponding image file\n",
    "for microplastic, filename in contrast_image_file_names.items():\n",
    "    # Load the image from the file\n",
    "    microplastic_img = cv2.imread(filename)\n",
    "\n",
    "    # Convert the image to grayscale for easier contour detection\n",
    "    microplastic_grey = cv2.cvtColor(microplastic_img, cv2.COLOR_BGR2GRAY)\n",
    "\n",
    "    # Apply OTSU's thresholding (inverted) to create a binary image for contour detection\n",
    "    ret, microplastic_otsu = cv2.threshold(microplastic_grey, 0, 255, cv2.THRESH_BINARY_INV + cv2.THRESH_OTSU)\n",
    "\n",
    "    # Extract external contours from the thresholded image\n",
    "    # These contours correspond to the shapes of the objects in the image\n",
    "    microplastic_external_contours, microplastic_external_hierarchy = cv2.findContours(\n",
    "        microplastic_otsu, cv2.RETR_EXTERNAL, cv2.CHAIN_APPROX_SIMPLE\n",
    "    )\n",
    "\n",
    "    # Create a histogram to count the occurrences of each type of microplastic detected in the image\n",
    "    histogram = {\n",
    "        \"Fragments\": 0,\n",
    "        \"Pellets\": 0,\n",
    "        \"Tar\": 0\n",
    "    }\n",
    "\n",
    "    # Define the area threshold for filtering out irrelevant contours (noise or very large objects)\n",
    "    min_area_threshold = 750\n",
    "    max_area_threshold = 30000\n",
    "\n",
    "    # Filter the contours based on area, keeping only those with an area within the defined threshold\n",
    "    filter = lambda contour: cv2.contourArea(contour) > min_area_threshold and cv2.contourArea(contour) < max_area_threshold\n",
    "    microplastic_filtered_external_contours = [\n",
    "        contour for contour in microplastic_external_contours if filter(contour=contour)\n",
    "    ]\n",
    "\n",
    "    # Process each filtered contour to classify it and update the histogram\n",
    "    for contour in microplastic_filtered_external_contours:\n",
    "        # Ignore any contour with an area of 0 (invalid contours)\n",
    "        if cv2.contourArea(contour) <= 0:\n",
    "            continue\n",
    "        \n",
    "        # Classify the contour and update the histogram for the predicted microplastic type\n",
    "        histogram[process_contour(contour, microplastic_img, features)] += 1\n",
    "\n",
    "    # Save the image with detected contours and classification results drawn on it\n",
    "    cv2.imwrite(f\"{microplastic}-result-of-detection.jpg\", microplastic_img)\n",
    "\n",
    "    # Create a confusion matrix to evaluate the accuracy of the classification\n",
    "    # 'true_row' tracks how many contours were classified correctly (True Positives) vs. misclassified (False Positives)\n",
    "    true_row = [0, 0]  # [True Positives, False Positives]\n",
    "    for key, value in histogram.items():\n",
    "        if key == microplastic:\n",
    "            true_row[0] = value  # Correct classifications for the current microplastic type\n",
    "        else:\n",
    "            true_row[1] += value  # Incorrect classifications for the current microplastic type\n",
    "    \n",
    "    # Construct the confusion matrix with a row for the current microplastic type and another for errors\n",
    "    confusion_matrix = [true_row, [0, 0]]  # The second row can store additional confusion data if needed\n",
    "\n",
    "    # Visualize the confusion matrix using matplotlib\n",
    "    fig, ax = plt.subplots(figsize=(7.5, 7.5))\n",
    "    ax.matshow(confusion_matrix, cmap=plt.cm.Blues, alpha=0.3)\n",
    "    for i in range(len(confusion_matrix)):\n",
    "        for j in range(len(confusion_matrix[0])):\n",
    "            ax.text(x=j, y=i, s=confusion_matrix[i][j], va='center', ha='center', size='xx-large')\n",
    "    \n",
    "    # Label the confusion matrix plot\n",
    "    plt.xlabel('Predictions', fontsize=18)\n",
    "    plt.ylabel('Actual values', fontsize=18)\n",
    "    plt.title(f\"Confusion matrix for {microplastic}\", fontsize=18)\n",
    "    plt.show()\n",
    "\n",
    "    # Display the image with detected contours and results\n",
    "    plt.axis(\"off\")\n",
    "    plt.title(f\"{microplastic} image; Results: {histogram}\")\n",
    "    plt.imshow(microplastic_img)\n",
    "    plt.show()"
   ]
  }
 ],
 "metadata": {
  "kernelspec": {
   "display_name": "Python 3 (ipykernel)",
   "language": "python",
   "name": "python3"
  },
  "language_info": {
   "codemirror_mode": {
    "name": "ipython",
    "version": 3
   },
   "file_extension": ".py",
   "mimetype": "text/x-python",
   "name": "python",
   "nbconvert_exporter": "python",
   "pygments_lexer": "ipython3",
   "version": "3.12.7"
  }
 },
 "nbformat": 4,
 "nbformat_minor": 4
}
