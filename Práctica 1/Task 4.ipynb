{
 "cells": [
  {
   "cell_type": "code",
   "execution_count": 1,
   "metadata": {},
   "outputs": [],
   "source": [
    "# Import the necessary libraries\n",
    "import numpy as np\n",
    "import matplotlib.pyplot as plt\n",
    "import random\n",
    "import cv2"
   ]
  },
  {
   "cell_type": "code",
   "execution_count": null,
   "metadata": {},
   "outputs": [],
   "source": [
    "# Load image from disk\n",
    "img = cv2.imread('./Images/Orcas.png')  # Load an image from the specified path\n",
    "\n",
    "# Get the dimensions of the image (width and height)\n",
    "height, width = img.shape[:2]\n",
    "\n",
    "# New size for the cropped image (1/4 of the original size)\n",
    "new_width = int(width * 1 / 4)\n",
    "new_height = int(height * 1 / 4)\n",
    "\n",
    "# Create an empty matrix to store the cropped image\n",
    "cropped_image = np.zeros([new_height, new_width, 3])\n",
    "\n",
    "# Copy pixels starting from position (400,400) in the original image\n",
    "for i in range(new_height):\n",
    "    for j in range(new_width):\n",
    "        cropped_image[i, j] = img[400 + i, 400 + j]\n",
    "\n",
    "# Convert the new image to valid pixel values (0-255)\n",
    "cropped_image = cv2.convertScaleAbs(cropped_image)\n",
    "\n",
    "# Display the cropped image\n",
    "plt.imshow(cropped_image)\n",
    "plt.axis('off')  # Hide axis labels for better visual presentation\n",
    "plt.show()\n",
    "\n",
    "# Rotate the original image by 180 degrees\n",
    "rotation_matrix = cv2.getRotationMatrix2D((width / 2, height / 2), 180, 1)\n",
    "rotated_image = cv2.warpAffine(img, rotation_matrix, (width, height))\n",
    "\n",
    "# Display the rotated image\n",
    "plt.imshow(rotated_image)\n",
    "plt.axis('off')  # Hide axis labels for better visual presentation\n",
    "plt.show()\n",
    "\n",
    "# Invert the colors of the original image\n",
    "inverted_image = cv2.bitwise_not(img)\n",
    "\n",
    "# Display the inverted image\n",
    "plt.imshow(inverted_image)\n",
    "plt.axis('off')  # Hide axis labels for better visual presentation\n",
    "plt.show()"
   ]
  }
 ],
 "metadata": {
  "kernelspec": {
   "display_name": "Python 3 (ipykernel)",
   "language": "python",
   "name": "python3"
  },
  "language_info": {
   "codemirror_mode": {
    "name": "ipython",
    "version": 3
   },
   "file_extension": ".py",
   "mimetype": "text/x-python",
   "name": "python",
   "nbconvert_exporter": "python",
   "pygments_lexer": "ipython3",
   "version": "3.12.5"
  }
 },
 "nbformat": 4,
 "nbformat_minor": 4
}
