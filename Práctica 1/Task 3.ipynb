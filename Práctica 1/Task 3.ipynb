{
 "cells": [
  {
   "cell_type": "code",
   "execution_count": null,
   "metadata": {},
   "outputs": [],
   "source": [
    "# Import the necessary libraries\n",
    "import numpy as np\n",
    "import matplotlib.pyplot as plt\n",
    "import random\n",
    "import cv2"
   ]
  },
  {
   "cell_type": "code",
   "execution_count": null,
   "metadata": {},
   "outputs": [],
   "source": [
    "# Canvas size\n",
    "canvas_height, canvas_width = 800, 800  # Define the height and width of the canvas\n",
    "border_thickness = 5  # Thickness of the border around each rectangle\n",
    "\n",
    "# Create a blank canvas (black background)\n",
    "canvas = np.zeros((canvas_height, canvas_width, 3), dtype=np.uint8)  # 3 channels for RGB color\n",
    "\n",
    "# Random number of horizontal and vertical divisions\n",
    "num_horizontal_divisions = random.randint(3, 10)  # Random number of vertical columns\n",
    "num_vertical_divisions = random.randint(3, 10)  # Random number of horizontal rows\n",
    "\n",
    "# Mondrian's primary colors (black, white, red, yellow, blue)\n",
    "mondrian_colors = [(0, 0, 0), (255, 255, 255), (255, 0, 0), (255, 255, 0), (0, 0, 255)]\n",
    "\n",
    "# List of widths for each column\n",
    "column_widths = [random.randint(50, 150) for _ in range(num_horizontal_divisions)]  # Random widths for each column\n",
    "\n",
    "# List of heights for each row\n",
    "row_heights = [[random.randint(50, 150) for _ in range(num_horizontal_divisions)] for _ in range(num_vertical_divisions)]  # Random heights for each row\n",
    "\n",
    "# Draw rectangles\n",
    "for i, row_height in enumerate(row_heights):  # Loop through each row\n",
    "    for j, column_width in enumerate(column_widths):  # Loop through each column\n",
    "        # Calculate the y coordinates of the rectangle (top and bottom)\n",
    "        y1 = sum([row_heights[k][j] for k in range(i)]) + border_thickness  # Top of the rectangle\n",
    "        y2 = y1 + row_height[j] if i != num_vertical_divisions - 1 else canvas_height  # Bottom of the rectangle (last row spans to the canvas edge)\n",
    "\n",
    "        # Calculate the x coordinates of the rectangle (left and right)\n",
    "        x1 = sum(column_widths[:j]) + border_thickness  # Left side of the rectangle\n",
    "        x2 = x1 + column_width if j != num_horizontal_divisions - 1 else canvas_width  # Right side (last column spans to the canvas edge)\n",
    "\n",
    "        # Randomly shuffle the list of colors\n",
    "        random.shuffle(mondrian_colors)\n",
    "        if mondrian_colors:\n",
    "            # Take the first color from the shuffled list\n",
    "            color = mondrian_colors.pop()  \n",
    "        else:\n",
    "            # Reset the color list if empty\n",
    "            mondrian_colors = [(0, 0, 0), (255, 255, 255), (255, 0, 0), (255, 255, 0), (0, 0, 255)]\n",
    "            color = mondrian_colors.pop()  \n",
    "\n",
    "        # Draw the colored rectangle\n",
    "        cv2.rectangle(canvas, (x1, y1), (x2, y2), color, -1)  # Fill the rectangle with color\n",
    "        # Draw the black border around the rectangle\n",
    "        cv2.rectangle(canvas, (x1, y1), (x2, y2), (0, 0, 0), border_thickness)  # Black border\n",
    "\n",
    "# Show the canvas\n",
    "cv2.imshow('Mondrian Art', canvas)  # Display the canvas in a window named 'Mondrian Art'\n",
    "cv2.waitKey(0)  # Wait for a key press to close the window\n",
    "cv2.destroyAllWindows()  # Close all OpenCV windows"
   ]
  }
 ],
 "metadata": {
  "language_info": {
   "name": "python"
  }
 },
 "nbformat": 4,
 "nbformat_minor": 2
}
