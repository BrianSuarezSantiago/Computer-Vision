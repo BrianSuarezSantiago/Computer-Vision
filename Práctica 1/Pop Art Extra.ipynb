{
 "cells": [
  {
   "cell_type": "markdown",
   "metadata": {},
   "source": [
    "# Task 6: Hacer una propuesta pop art con la entrada de la cámara web o vídeo"
   ]
  },
  {
   "cell_type": "code",
   "execution_count": null,
   "metadata": {},
   "outputs": [],
   "source": [
    "# Import the necessary libraries\n",
    "import numpy as np\n",
    "import matplotlib.pyplot as plt\n",
    "import random\n",
    "import cv2"
   ]
  },
  {
   "cell_type": "code",
   "execution_count": null,
   "metadata": {},
   "outputs": [],
   "source": [
    "# Start camera capture\n",
    "cap = cv2.VideoCapture(0)  # Open the default camera (0)\n",
    "\n",
    "while True:\n",
    "    # Capture frame-by-frame\n",
    "    ret, frame = cap.read()  # Read the current frame from the camera\n",
    "\n",
    "    if ret:\n",
    "        # Find the darkest and brightest pixel\n",
    "        darkest_pixel_coords = np.unravel_index(np.argmin(frame), frame.shape)  # Coordinates of the darkest pixel\n",
    "        brightest_pixel_coords = np.unravel_index(np.argmax(frame), frame.shape)  # Coordinates of the brightest pixel\n",
    "\n",
    "        # Highlight the darkest pixel\n",
    "        img_darkest = frame.copy()  # Make a copy of the frame\n",
    "        # Draw a black circle at the darkest pixel location\n",
    "        cv2.circle(img_darkest, (darkest_pixel_coords[1], darkest_pixel_coords[0]), 10, (0, 0, 0), -1)\n",
    "        # Draw a white border around the circle\n",
    "        cv2.circle(img_darkest, (darkest_pixel_coords[1], darkest_pixel_coords[0]), 10, (255, 255, 255), 5)\n",
    "\n",
    "        # Highlight the brightest pixel\n",
    "        img_brightest = frame.copy()  # Make another copy of the frame\n",
    "        # Draw a white circle at the brightest pixel location\n",
    "        cv2.circle(img_brightest, (brightest_pixel_coords[1], brightest_pixel_coords[0]), 10, (255, 255, 255), -1)\n",
    "        # Draw a black border around the circle\n",
    "        cv2.circle(img_brightest, (brightest_pixel_coords[1], brightest_pixel_coords[0]), 10, (0, 0, 0), 5)\n",
    "\n",
    "        # Combine the images (darkest and brightest highlights) into one\n",
    "        combined_image = cv2.addWeighted(img_darkest, 0.5, img_brightest, 0.5, 0)  # Blend the two images\n",
    "\n",
    "        # Display the frame with highlighted darkest and brightest pixels\n",
    "        cv2.imshow('Darkest and Brightest Pixels', combined_image)\n",
    "\n",
    "    # Exit when the ESC key is pressed\n",
    "    if cv2.waitKey(20) == 27:  # 27 is the ASCII code for the ESC key\n",
    "        break\n",
    "\n",
    "# Release the capture object\n",
    "cap.release()  # Free the camera resource\n",
    "# Destroy all OpenCV windows\n",
    "cv2.destroyAllWindows()"
   ]
  }
 ],
 "metadata": {
  "language_info": {
   "name": "python"
  }
 },
 "nbformat": 4,
 "nbformat_minor": 2
}
