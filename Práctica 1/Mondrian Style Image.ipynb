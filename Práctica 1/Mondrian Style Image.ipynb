{
 "cells": [
  {
   "cell_type": "markdown",
   "metadata": {},
   "source": [
    "# Task 2: Crear una imagen estilo Mondrian"
   ]
  },
  {
   "cell_type": "code",
   "execution_count": null,
   "metadata": {},
   "outputs": [],
   "source": [
    "# Import the necessary libraries\n",
    "import numpy as np\n",
    "import matplotlib.pyplot as plt\n",
    "import random\n",
    "import cv2"
   ]
  },
  {
   "cell_type": "code",
   "execution_count": null,
   "metadata": {},
   "outputs": [],
   "source": [
    "# Canvas size\n",
    "canvas_height, canvas_width = 800, 800  # Define the height and width of the canvas\n",
    "border_thickness = 5  # Thickness of the border around each square\n",
    "\n",
    "# Create a blank canvas\n",
    "# Initializing a black canvas with 3 channels for RGB color\n",
    "canvas = np.zeros((canvas_height, canvas_width, 3), dtype=np.uint8)\n",
    "\n",
    "# Generate random number of horizontal and vertical divisions\n",
    "num_horizontal_divisions = random.randint(3, 10)  # Random number of columns\n",
    "num_vertical_divisions = random.randint(3, 10)  # Random number of rows\n",
    "\n",
    "# Mondrian primary colors\n",
    "mondrian_colors = [(0, 0, 0), (255, 255, 255), (255, 0, 0), (0, 255, 255), (0, 0, 255)]  # Black, white, red, yellow, blue\n",
    "\n",
    "# List of column widths\n",
    "column_widths = [random.randint(50, 150) for _ in range(num_horizontal_divisions)]\n",
    "\n",
    "# List of row heights for each square\n",
    "row_heights = [[random.randint(50, 150) for _ in range(num_horizontal_divisions)] for _ in range(num_vertical_divisions)]\n",
    "\n",
    "# Draw squares\n",
    "for i, row_height in enumerate(row_heights):\n",
    "    for j, column_width in enumerate(column_widths):\n",
    "        # Calculate the y-coordinates for the current row\n",
    "        y1 = sum([row_heights[k][j] for k in range(i)]) + border_thickness        \n",
    "        y2 = y1 + row_height[j] if i != num_vertical_divisions - 1 else canvas_height  # Ensures the last row fits within the canvas\n",
    "\n",
    "        # Calculate the x-coordinates for the current column\n",
    "        x1 = sum(column_widths[:j]) + border_thickness        \n",
    "        x2 = x1 + column_width if j != num_horizontal_divisions - 1 else canvas_width  # Ensures the last column fits within the canvas\n",
    "\n",
    "        # Randomly shuffle the Mondrian colors and select the first one\n",
    "        random.shuffle(mondrian_colors)\n",
    "        if mondrian_colors:\n",
    "            # Use the first color in the shuffled list\n",
    "            color = mondrian_colors.pop()  \n",
    "        else:\n",
    "            # Reset the colors if the list is empty\n",
    "            mondrian_colors = [(0, 0, 0), (255, 255, 255), (255, 0, 0), (0, 255, 255), (0, 0, 255)]\n",
    "            color = mondrian_colors.pop()  \n",
    "        \n",
    "        # Draw the filled rectangle (the square) with the selected color\n",
    "        cv2.rectangle(canvas, (x1, y1), (x2, y2), color, -1)\n",
    "        # Draw the border around the square\n",
    "        cv2.rectangle(canvas, (x1, y1), (x2, y2), (0, 0, 0), border_thickness)\n",
    "\n",
    "# Display the canvas\n",
    "cv2.imshow('Mondrian Painting', canvas)\n",
    "cv2.waitKey(0)\n",
    "cv2.destroyAllWindows()"
   ]
  }
 ],
 "metadata": {
  "kernelspec": {
   "display_name": "Python 3 (ipykernel)",
   "language": "python",
   "name": "python3"
  },
  "language_info": {
   "codemirror_mode": {
    "name": "ipython",
    "version": 3
   },
   "file_extension": ".py",
   "mimetype": "text/x-python",
   "name": "python",
   "nbconvert_exporter": "python",
   "pygments_lexer": "ipython3",
   "version": "3.12.5"
  }
 },
 "nbformat": 4,
 "nbformat_minor": 4
}
