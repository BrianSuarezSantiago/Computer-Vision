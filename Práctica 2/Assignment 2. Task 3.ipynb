{
 "cells": [
  {
   "cell_type": "markdown",
   "metadata": {},
   "source": [
    "# Task 3\n",
    "\n",
    "Proponer un demostrador que capture las imágenes de la cámara, y les permita exhibir lo aprendido en estas dos prácticas ante quienes no cursen la asignatura :). Es por ello que además de poder mostrar la imagen original de la webcam, incluya al menos dos usos diferentes de aplicar las funciones de OpenCV trabajadas hasta ahora."
   ]
  },
  {
   "cell_type": "code",
   "execution_count": 1,
   "metadata": {},
   "outputs": [],
   "source": [
    "# Import necessary libraries\n",
    "import numpy as np\n",
    "import cv2"
   ]
  },
  {
   "cell_type": "code",
   "execution_count": null,
   "metadata": {},
   "outputs": [],
   "source": [
    "# Function to display the original image\n",
    "def show_original(frame):\n",
    "    cv2.imshow('No Effect', frame)  # Show the frame without any effect"
   ]
  },
  {
   "cell_type": "code",
   "execution_count": null,
   "metadata": {},
   "outputs": [],
   "source": [
    "# Function to convert the image to grayscale\n",
    "def to_gray(frame):\n",
    "    gray_frame = cv2.cvtColor(frame, cv2.COLOR_BGR2GRAY)  # Convert the frame to grayscale\n",
    "    cv2.imshow('Gray Effect', gray_frame)  # Display the grayscale frame"
   ]
  },
  {
   "cell_type": "code",
   "execution_count": null,
   "metadata": {},
   "outputs": [],
   "source": [
    "# Function to apply Canny edge detection algorithm\n",
    "def apply_canny(frame):\n",
    "    edges = cv2.Canny(frame, 100, 200)  # Apply Canny edge detection with thresholds 100 and 200\n",
    "    cv2.imshow('Canny Effect', edges)  # Display the edges detected in the frame"
   ]
  },
  {
   "cell_type": "code",
   "execution_count": null,
   "metadata": {},
   "outputs": [],
   "source": [
    "# Function to apply binary thresholding\n",
    "def thresholding(frame):\n",
    "    gray_frame = cv2.cvtColor(frame, cv2.COLOR_BGR2GRAY)  # Convert the frame to grayscale\n",
    "    _, thresh_frame = cv2.threshold(gray_frame, 127, 255, cv2.THRESH_BINARY)  # Apply binary thresholding\n",
    "    cv2.imshow('Binary Effect', thresh_frame)  # Display the thresholded frame"
   ]
  },
  {
   "cell_type": "code",
   "execution_count": null,
   "metadata": {},
   "outputs": [],
   "source": [
    "# Function to switch between different effects based on the number selected\n",
    "def switch(effect, frame, backSub, prevFrame):\n",
    "    if effect == 1:\n",
    "        show_original(frame)  # Show the original frame\n",
    "    elif effect == 2:\n",
    "        to_gray(frame)  # Apply grayscale effect\n",
    "    elif effect == 3:\n",
    "        apply_canny(frame)  # Apply Canny edge detection\n",
    "    elif effect == 4:\n",
    "        thresholding(frame)  # Apply binary thresholding\n",
    "\n",
    "# Initialize video capture from the camera\n",
    "vid = cv2.VideoCapture(0)  # Start capturing video from the default camera (index 0)\n",
    "\n",
    "# Create a background subtractor object using MOG2 algorithm\n",
    "backSub = cv2.createBackgroundSubtractorMOG2(history=100, varThreshold=50, detectShadows=True)\n",
    "\n",
    "# Initialize the selected effect\n",
    "effect = 1  # Start with the first effect by default\n",
    "number_of_effects = 4  # Define the total number of effects available\n",
    "\n",
    "# Variable to store the previous frame (if needed for any effect)\n",
    "prevFrame = None\n",
    "\n",
    "# Infinite loop to continuously read frames from the camera\n",
    "while(True):\n",
    "    # Read the current frame from the camera\n",
    "    ret, frame = vid.read()  # 'ret' is a boolean indicating if the frame was read successfully\n",
    "\n",
    "    if ret:\n",
    "        # Apply mirror effect to the image (flip horizontally)\n",
    "        framem = cv2.flip(frame, 1)  # Flip the frame horizontally\n",
    "        # Apply the effect based on the selected number\n",
    "        switch(effect, framem, backSub, prevFrame)\n",
    "\n",
    "        # Update the previous frame for future use\n",
    "        prevFrame = framem\n",
    "\n",
    "    # Capture keyboard input\n",
    "    key = cv2.waitKey(33) & 0xFF  # Wait for a key press (33 ms delay)\n",
    "\n",
    "    # If ESC key is pressed, exit the loop\n",
    "    if key == 27:  # 27 is the ASCII code for ESC\n",
    "        break\n",
    "\n",
    "    # If number keys (1, 2, 3, etc.) are pressed\n",
    "    elif key in [49, 50, 51, 52]:  # 49 to 52 correspond to '1', '2', '3', '4'\n",
    "        effect = key - 48  # Convert the ASCII code to the corresponding number\n",
    "\n",
    "# Release the video capture object and close all OpenCV windows\n",
    "vid.release()  # Stop capturing video\n",
    "cv2.destroyAllWindows()  # Close all windows"
   ]
  }
 ],
 "metadata": {
  "kernelspec": {
   "display_name": "Python 3 (ipykernel)",
   "language": "python",
   "name": "python3"
  }
 },
 "nbformat": 4,
 "nbformat_minor": 2
}
