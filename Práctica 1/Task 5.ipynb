{
 "cells": [
  {
   "cell_type": "markdown",
   "metadata": {},
   "source": [
    "# Task 5: Destacar tanto el píxel con el color más claro como con el color más oscuro de una imagen"
   ]
  },
  {
   "cell_type": "code",
   "execution_count": 3,
   "metadata": {},
   "outputs": [],
   "source": [
    "# Import the necessary libraries\n",
    "import numpy as np\n",
    "import matplotlib.pyplot as plt\n",
    "import random\n",
    "import cv2"
   ]
  },
  {
   "cell_type": "code",
   "execution_count": null,
   "metadata": {},
   "outputs": [],
   "source": [
    "# Load the color image\n",
    "img = cv2.imread('./Images/Deer.jpg')  # Load an image from the specified path\n",
    "\n",
    "# Force the image to grayscale\n",
    "gray_img = cv2.imread('./Images/Deer.jpg', cv2.IMREAD_GRAYSCALE)  # Load the same image in grayscale\n",
    "\n",
    "# Find the darkest and lightest pixels in the grayscale image\n",
    "dark_pixel_coords = np.unravel_index(np.argmin(gray_img), gray_img.shape)  # Coordinates of the darkest pixel\n",
    "light_pixel_coords = np.unravel_index(np.argmax(gray_img), gray_img.shape)  # Coordinates of the lightest pixel\n",
    "\n",
    "# Highlight the darkest pixel\n",
    "img_dark = img.copy()  # Create a copy of the original image\n",
    "cv2.circle(img_dark, (dark_pixel_coords[1], dark_pixel_coords[0]), 10, (0, 0, 0), -1)  # Draw a black circle around the darkest pixel\n",
    "cv2.circle(img_dark, (dark_pixel_coords[1], dark_pixel_coords[0]), 10, (255, 255, 255), 5)  # Draw a white border around the black circle\n",
    "\n",
    "# Highlight the lightest pixel\n",
    "img_light = img.copy()  # Create another copy of the original image\n",
    "cv2.circle(img_light, (light_pixel_coords[1], light_pixel_coords[0]), 10, (255, 255, 255), -1)  # Draw a white circle around the lightest pixel\n",
    "cv2.circle(img_light, (light_pixel_coords[1], light_pixel_coords[0]), 10, (0, 0, 0), 5)  # Draw a black border around the white circle\n",
    "\n",
    "# Display the image with the darkest pixel highlighted\n",
    "plt.imshow(cv2.cvtColor(img_dark, cv2.COLOR_BGR2RGB))  # Convert the image from BGR to RGB for correct color display\n",
    "plt.title('Darkest Pixel')  # Set the title of the image\n",
    "plt.axis('off')  # Hide axis labels\n",
    "plt.show()  # Show the image\n",
    "\n",
    "# Display the image with the lightest pixel highlighted\n",
    "plt.imshow(cv2.cvtColor(img_light, cv2.COLOR_BGR2RGB))  # Convert the image from BGR to RGB for correct color display\n",
    "plt.title('Lightest Pixel')  # Set the title of the image\n",
    "plt.axis('off')  # Hide axis labels\n",
    "plt.show()  # Show the image"
   ]
  }
 ],
 "metadata": {
  "kernelspec": {
   "display_name": "Python 3 (ipykernel)",
   "language": "python",
   "name": "python3"
  },
  "language_info": {
   "codemirror_mode": {
    "name": "ipython",
    "version": 3
   },
   "file_extension": ".py",
   "mimetype": "text/x-python",
   "name": "python",
   "nbconvert_exporter": "python",
   "pygments_lexer": "ipython3",
   "version": "3.12.5"
  }
 },
 "nbformat": 4,
 "nbformat_minor": 4
}
