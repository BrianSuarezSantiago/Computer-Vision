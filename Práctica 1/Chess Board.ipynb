{
 "cells": [
  {
   "cell_type": "markdown",
   "metadata": {},
   "source": [
    "# Task 1: Crear una imagen con la textura de un tablero de ajedrez"
   ]
  },
  {
   "cell_type": "code",
   "execution_count": null,
   "metadata": {},
   "outputs": [],
   "source": [
    "# Import the necessary libraries\n",
    "import numpy as np\n",
    "import matplotlib.pyplot as plt\n",
    "import random\n",
    "import cv2"
   ]
  },
  {
   "cell_type": "code",
   "execution_count": null,
   "metadata": {},
   "outputs": [],
   "source": [
    "# Define the size of the board in pixels\n",
    "board_size_pixels = 800  # The overall size of the chessboard in pixels\n",
    "square_size_pixels = board_size_pixels // 8  # Size of each square, assuming an 8x8 grid\n",
    "border_thickness = 2  # Thickness of the border around each square\n",
    "\n",
    "# Create the chessboard\n",
    "# Initialize a black chessboard using NumPy, with 3 channels for RGB color (Black by default)\n",
    "board = np.zeros((board_size_pixels, board_size_pixels, 3), np.uint8)\n",
    "\n",
    "# Generate white squares\n",
    "# Iterate through each row and column. For every even sum of row and column indices, make the square white.\n",
    "for i in range(8):\n",
    "    for j in range(8):\n",
    "        if (i + j) % 2 == 0:\n",
    "            # Fill the square with white color, leaving a small border\n",
    "            board[i * square_size_pixels + border_thickness:(i + 1) * square_size_pixels - border_thickness, \n",
    "                  j * square_size_pixels + border_thickness:(j + 1) * square_size_pixels - border_thickness] = [255, 255, 255]\n",
    "\n",
    "# Display the chessboard image\n",
    "plt.imshow(board)\n",
    "\n",
    "# Add chessboard labels\n",
    "# Define the labels for the x-axis (columns A to H) and y-axis (rows 8 to 1)\n",
    "letters = ['A', 'B', 'C', 'D', 'E', 'F', 'G', 'H']\n",
    "numbers = ['8', '7', '6', '5', '4', '3', '2', '1']\n",
    "\n",
    "# Set the tick positions and labels based on the center of each square\n",
    "plt.xticks(np.arange(square_size_pixels / 2, board_size_pixels, square_size_pixels), letters)\n",
    "plt.yticks(np.arange(square_size_pixels / 2, board_size_pixels, square_size_pixels), numbers)\n",
    "\n",
    "# Remove axis ticks and labels\n",
    "plt.tick_params(axis='both', bottom=False, left=False)\n",
    "\n",
    "# Set the title for the chessboard\n",
    "plt.title('Chessboard')\n",
    "\n",
    "# Show the chessboard with axes\n",
    "plt.axis('on')\n",
    "plt.show()"
   ]
  }
 ],
 "metadata": {
  "kernelspec": {
   "display_name": "Python 3",
   "language": "python",
   "name": "python3"
  },
  "language_info": {
   "name": "python",
   "version": "3.12.4"
  }
 },
 "nbformat": 4,
 "nbformat_minor": 2
}
